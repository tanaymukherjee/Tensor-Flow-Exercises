{
  "nbformat": 4,
  "nbformat_minor": 0,
  "metadata": {
    "colab": {
      "name": "TensorFlow_Minimal_Exercise.ipynb",
      "provenance": [],
      "collapsed_sections": [],
      "authorship_tag": "ABX9TyMzfmHviDSvneg+7cGgGI1k",
      "include_colab_link": true
    },
    "kernelspec": {
      "name": "python3",
      "display_name": "Python 3"
    }
  },
  "cells": [
    {
      "cell_type": "markdown",
      "metadata": {
        "id": "view-in-github",
        "colab_type": "text"
      },
      "source": [
        "<a href=\"https://colab.research.google.com/github/tanaymukherjee/Tensor-Flow-Exercises/blob/master/TensorFlow_Minimal_Exercise.ipynb\" target=\"_parent\"><img src=\"https://colab.research.google.com/assets/colab-badge.svg\" alt=\"Open In Colab\"/></a>"
      ]
    },
    {
      "cell_type": "markdown",
      "metadata": {
        "id": "3zlprkK0zw2j",
        "colab_type": "text"
      },
      "source": [
        "### Import the relevant library\n",
        "\n"
      ]
    },
    {
      "cell_type": "code",
      "metadata": {
        "id": "Mk6XlKKuz3SK",
        "colab_type": "code",
        "colab": {
          "base_uri": "https://localhost:8080/",
          "height": 90
        },
        "outputId": "a526be90-b235-421f-e7a0-37f534353114"
      },
      "source": [
        "import numpy as np\n",
        "import matplotlib.pyplot as plt\n",
        "import tensorflow.compat.v1 as tf\n",
        "tf.disable_v2_behavior()"
      ],
      "execution_count": 6,
      "outputs": [
        {
          "output_type": "stream",
          "text": [
            "WARNING:tensorflow:From /usr/local/lib/python3.6/dist-packages/tensorflow/python/compat/v2_compat.py:96: disable_resource_variables (from tensorflow.python.ops.variable_scope) is deprecated and will be removed in a future version.\n",
            "Instructions for updating:\n",
            "non-resource variables are not supported in the long term\n"
          ],
          "name": "stdout"
        }
      ]
    },
    {
      "cell_type": "markdown",
      "metadata": {
        "id": "FhY6gV9w0C8h",
        "colab_type": "text"
      },
      "source": [
        "### Data generation\n",
        "\n",
        "We generate data using the exact same logic and code as the example from the previous notebook. The only difference now is that we save it to an npz file. Npz is numpy's file type which allows you to save numpy arrays into a single .npz file. We introduce this change because in machine learning most often: \n",
        "\n",
        "* you are given some data (csv, database, etc.)\n",
        "* you preprocess it into a desired format (later on we will see methods for preprocesing)\n",
        "* you save it into npz files (if you're working in Python) to access later\n",
        "\n",
        "Nothing to worry about - this is literally saving your NumPy arrays into a file that you can later access, nothing more."
      ]
    },
    {
      "cell_type": "code",
      "metadata": {
        "id": "O_gM9RHP0EmP",
        "colab_type": "code",
        "colab": {}
      },
      "source": [
        "# First, we should declare a variable containing the size of the training set we want to generate.\n",
        "observations = 1000\n",
        "\n",
        "# We will work with two variables as inputs. You can think about them as x1 and x2 in our previous examples.\n",
        "# We have picked x and z, since it is easier to differentiate them.\n",
        "# We generate them randomly, drawing from an uniform distribution. There are 3 arguments of this method (low, high, size).\n",
        "# The size of xs and zs is observations x 1. In this case: 1000 x 1.\n",
        "xs = np.random.uniform(low=-10, high=10, size=(observations,1))\n",
        "zs = np.random.uniform(-10, 10, (observations,1))\n",
        "\n",
        "# Combine the two dimensions of the input into one input matrix. \n",
        "# This is the X matrix from the linear model y = x*w + b.\n",
        "# column_stack is a Numpy method, which combines two matrices (vectors) into one.\n",
        "generated_inputs = np.column_stack((xs,zs))\n",
        "\n",
        "# We add a random small noise to the function i.e. f(x,z) = 2x - 3z + 5 + <small noise>\n",
        "noise = np.random.uniform(-1, 1, (observations,1))\n",
        "\n",
        "# Produce the targets according to our f(x,z) = 2x - 3z + 5 + noise definition.\n",
        "# In this way, we are basically saying: the weights should be 2 and -3, while the bias is 5.\n",
        "generated_targets = 2*xs - 3*zs + 5 + noise\n",
        "\n",
        "# save into an npz file called \"TF_intro\"\n",
        "np.savez('TF_intro', inputs=generated_inputs, targets=generated_targets)"
      ],
      "execution_count": 0,
      "outputs": []
    },
    {
      "cell_type": "markdown",
      "metadata": {
        "id": "LOTSUMNa0Prx",
        "colab_type": "text"
      },
      "source": [
        "### Solving with TensorFlow\n",
        "\n",
        "Note: This intro is just the basics of TensorFlow which has way more capabilities and depth than that."
      ]
    },
    {
      "cell_type": "code",
      "metadata": {
        "id": "sTtrpPLY0QvK",
        "colab_type": "code",
        "colab": {}
      },
      "source": [
        "# The shape of the data we've prepared above. Think about it as: number of inputs, number of outputs.\n",
        "input_size = 2\n",
        "output_size = 1"
      ],
      "execution_count": 0,
      "outputs": []
    },
    {
      "cell_type": "markdown",
      "metadata": {
        "id": "YLShCa7H0cAg",
        "colab_type": "text"
      },
      "source": [
        "### Outlining the model"
      ]
    },
    {
      "cell_type": "code",
      "metadata": {
        "id": "5cFyCGNZ0gWZ",
        "colab_type": "code",
        "colab": {}
      },
      "source": [
        "# Here we define a basic TensorFlow object - the placeholder.\n",
        "# As before, we will feed the inputs and targets to the model. \n",
        "# In the TensorFlow context, we feed the data to the model THROUGH the placeholders. \n",
        "# The particular inputs and targets are contained in our .npz file.\n",
        "\n",
        "# The first None parameter of the placeholders' shape means that\n",
        "# this dimension could be of any length. That's since we are mainly interested in\n",
        "# the input size, i.e. how many input variables we have and not the number of samples (observations)\n",
        "# The number of input variables changes the MODEL itself, while the number of observations doesn't.\n",
        "# Remember that the weights and biases were independent of the number of samples, so the MODEL is independent.\n",
        "# Important: NO calculation happens at this point.\n",
        "inputs = tf.placeholder(tf.float32, [None, input_size])\n",
        "targets = tf.placeholder(tf.float32, [None, output_size])\n",
        "\n",
        "# As before, we define our weights and biases.\n",
        "# They are the other basic TensorFlow object - a variable.\n",
        "# We feed data into placeholders and they have a different value for each iteration\n",
        "# Variables, however, preserve their values across iterations.\n",
        "# To sum up, data goes into placeholders; parameters go into variables.\n",
        "\n",
        "# We use the same random uniform initialization in [-0.1,0.1] as in the minimal example but using the TF syntax\n",
        "# Important: NO calculation happens at this point.\n",
        "weights = tf.Variable(tf.random_uniform([input_size, output_size], minval=-0.1, maxval=0.1))\n",
        "biases = tf.Variable(tf.random_uniform([output_size], minval=-0.1, maxval=0.1))\n",
        "\n",
        "# We get the outputs following our linear combination: y = xw + b\n",
        "# Important: NO calculation happens at this point.\n",
        "# This line simply tells TensorFlow what rule to apply when we feed in the training data (below).\n",
        "outputs = tf.matmul(inputs, weights) + biases"
      ],
      "execution_count": 0,
      "outputs": []
    },
    {
      "cell_type": "markdown",
      "metadata": {
        "id": "hejQ-KRB0_wY",
        "colab_type": "text"
      },
      "source": [
        "### Choosing the objective function and the optimization method\n"
      ]
    },
    {
      "cell_type": "code",
      "metadata": {
        "id": "yN92OpRU04NB",
        "colab_type": "code",
        "colab": {}
      },
      "source": [
        "# Again, we use a loss function, this time readily available, though.\n",
        "# mean_squared_error is the scaled L2-norm (per observation)\n",
        "# We divide by two to follow our earlier definitions. That doesn't really change anything.\n",
        "mean_loss = tf.losses.mean_squared_error(labels=targets, predictions=outputs) / 2.\n",
        "\n",
        "# Note that there also exists a function tf.nn.l2_loss. \n",
        "# tf.nn.l2_loss calculates the loss over all samples, instead of the average loss per sample.\n",
        "# Practically it's the same, a matter of preference.\n",
        "# The difference would be a smaller or larger learning rate to achieve the exact same result.\n",
        "\n",
        "# Instead of implementing Gradient Descent on our own, in TensorFlow we can simply state\n",
        "# \"Minimize the mean loss by using Gradient Descent with a given learning rate\"\n",
        "# Simple as that.\n",
        "optimize = tf.train.GradientDescentOptimizer(learning_rate=0.05).minimize(mean_loss)"
      ],
      "execution_count": 0,
      "outputs": []
    },
    {
      "cell_type": "markdown",
      "metadata": {
        "id": "OIGjNRM81GUX",
        "colab_type": "text"
      },
      "source": [
        "### Prepare for execution"
      ]
    },
    {
      "cell_type": "code",
      "metadata": {
        "id": "46EI1xC-1G1W",
        "colab_type": "code",
        "colab": {}
      },
      "source": [
        "# So far we've defined the placeholders, variables, the loss function and the optimization method.\n",
        "# We have the structure for training, but we haven't trained anything yet.\n",
        "# The actual training (and subsequent implementation of the ML algorithm) happens inside sessions.\n",
        "sess = tf.InteractiveSession()"
      ],
      "execution_count": 0,
      "outputs": []
    },
    {
      "cell_type": "markdown",
      "metadata": {
        "id": "VWP_bOZz1LEZ",
        "colab_type": "text"
      },
      "source": [
        "### Initializing variables"
      ]
    },
    {
      "cell_type": "code",
      "metadata": {
        "id": "MHBuxZ8K1PAv",
        "colab_type": "code",
        "colab": {}
      },
      "source": [
        "# Before we start training, we need to initialize our variables: the weights and biases.\n",
        "# There is a specific method for initializing called global_variables_initializer().\n",
        "# Let's declare a variable \"initializer\" that will do that.\n",
        "initializer = tf.global_variables_initializer()\n",
        "\n",
        "# Time to initialize the variables.\n",
        "sess.run(initializer)"
      ],
      "execution_count": 0,
      "outputs": []
    },
    {
      "cell_type": "markdown",
      "metadata": {
        "id": "h_ChvByU1R8O",
        "colab_type": "text"
      },
      "source": [
        "### Loading training data"
      ]
    },
    {
      "cell_type": "code",
      "metadata": {
        "id": "HXURozNK1ULQ",
        "colab_type": "code",
        "colab": {}
      },
      "source": [
        "# We finally load the training data we created above.\n",
        "training_data = np.load('TF_intro.npz')"
      ],
      "execution_count": 0,
      "outputs": []
    },
    {
      "cell_type": "markdown",
      "metadata": {
        "id": "fzvoU2-P1XE2",
        "colab_type": "text"
      },
      "source": [
        "### Learning"
      ]
    },
    {
      "cell_type": "code",
      "metadata": {
        "id": "aqOA2Bbl1Y2Q",
        "colab_type": "code",
        "colab": {
          "base_uri": "https://localhost:8080/",
          "height": 1000
        },
        "outputId": "9dbcaaf2-888f-499b-bc57-8bdcafa80782"
      },
      "source": [
        "# As in the previous example, we train for a set number (100) of iterations over the dataset\n",
        "for i in range(100):\n",
        "    # This expression is a bit more complex but you'll learn to appreciate its power and\n",
        "    # flexibility in the following lessons.\n",
        "    # sess.run is the session's function to actually do something, anything.\n",
        "    # Above, we used it to initialize the variables.\n",
        "    # Here, we use it to feed the training data to the computational graph, defined by the feed_dict parameter\n",
        "    # and run operations (already defined above), given as the first parameter (optimize, mean_loss).\n",
        "    \n",
        "    # So the line of code means: \"Run the optimize and mean_loss operations by filling the placeholder\n",
        "    # objects with data from the feed_dict parameter\".\n",
        "    # Curr_loss catches the output from the two operations.\n",
        "    # Using \"_,\" we omit the first one, because optimize has no output (it's always \"None\"). \n",
        "    # The second one catches the value of the mean_loss for the current run, thus curr_loss actually = mean_loss \n",
        "    _, curr_loss = sess.run([optimize, mean_loss], \n",
        "        feed_dict={inputs: training_data['inputs'], targets: training_data['targets']})\n",
        "    \n",
        "    # We print the current average loss\n",
        "    print(curr_loss)"
      ],
      "execution_count": 12,
      "outputs": [
        {
          "output_type": "stream",
          "text": [
            "234.19812\n",
            "129.2559\n",
            "73.034325\n",
            "42.743305\n",
            "26.270987\n",
            "17.178335\n",
            "12.040315\n",
            "9.033682\n",
            "7.1866384\n",
            "5.980129\n",
            "5.1359386\n",
            "4.5040717\n",
            "4.0028896\n",
            "3.5872653\n",
            "3.231645\n",
            "2.9210377\n",
            "2.6461923\n",
            "2.4010437\n",
            "2.1813247\n",
            "1.9838287\n",
            "1.8060039\n",
            "1.6457281\n",
            "1.5011839\n",
            "1.3707805\n",
            "1.2531109\n",
            "1.146917\n",
            "1.0510741\n",
            "0.96456885\n",
            "0.8864896\n",
            "0.81601465\n",
            "0.75240296\n",
            "0.694986\n",
            "0.64316034\n",
            "0.59638083\n",
            "0.5541567\n",
            "0.5160444\n",
            "0.48164275\n",
            "0.45059112\n",
            "0.42256328\n",
            "0.39726415\n",
            "0.37442884\n",
            "0.35381708\n",
            "0.33521247\n",
            "0.31841934\n",
            "0.30326122\n",
            "0.28957954\n",
            "0.2772299\n",
            "0.26608282\n",
            "0.25602093\n",
            "0.24693914\n",
            "0.23874152\n",
            "0.23134217\n",
            "0.22466345\n",
            "0.21863505\n",
            "0.21319352\n",
            "0.20828189\n",
            "0.20384847\n",
            "0.19984679\n",
            "0.19623484\n",
            "0.19297454\n",
            "0.1900317\n",
            "0.18737534\n",
            "0.18497778\n",
            "0.18281358\n",
            "0.18086019\n",
            "0.17909707\n",
            "0.17750554\n",
            "0.17606904\n",
            "0.17477225\n",
            "0.17360179\n",
            "0.17254545\n",
            "0.17159186\n",
            "0.17073113\n",
            "0.16995423\n",
            "0.16925293\n",
            "0.16861995\n",
            "0.16804862\n",
            "0.16753295\n",
            "0.16706747\n",
            "0.16664729\n",
            "0.16626805\n",
            "0.16592571\n",
            "0.16561675\n",
            "0.16533782\n",
            "0.16508606\n",
            "0.16485879\n",
            "0.16465375\n",
            "0.16446859\n",
            "0.16430146\n",
            "0.16415064\n",
            "0.16401449\n",
            "0.1638916\n",
            "0.1637807\n",
            "0.16368057\n",
            "0.16359018\n",
            "0.16350861\n",
            "0.163435\n",
            "0.16336855\n",
            "0.16330853\n",
            "0.16325442\n"
          ],
          "name": "stdout"
        }
      ]
    },
    {
      "cell_type": "markdown",
      "metadata": {
        "id": "C0YWgrUG1b6_",
        "colab_type": "text"
      },
      "source": [
        "### Plotting the data"
      ]
    },
    {
      "cell_type": "code",
      "metadata": {
        "id": "37Y-Runh1d8f",
        "colab_type": "code",
        "colab": {
          "base_uri": "https://localhost:8080/",
          "height": 279
        },
        "outputId": "476bd104-0fc7-4a01-a295-1d3d4900e8fe"
      },
      "source": [
        "# As before, we want to plot the last output vs targets after the training is supposedly over.\n",
        "# Same notation as above but this time we don't want to train anymore, and we are not interested\n",
        "# in the loss function value.\n",
        "# What we want, however, are the outputs. \n",
        "# Therefore, instead of the optimize and mean_loss operations, we pass the \"outputs\" as the only parameter.\n",
        "out = sess.run([outputs], \n",
        "               feed_dict={inputs: training_data['inputs']})\n",
        "# The model is optimized, so the outputs are calculated based on the last form of the model\n",
        "\n",
        "# We have to np.squeeze the arrays in order to fit them to what the plot function expects.\n",
        "# Doesn't change anything as we cut dimensions of size 1 - just a technicality.\n",
        "plt.plot(np.squeeze(out), np.squeeze(training_data['targets']))\n",
        "plt.xlabel('outputs')\n",
        "plt.ylabel('targets')\n",
        "plt.show()\n",
        "        \n",
        "# Voila - what you see should be exactly the same as in the previous notebook!\n",
        "# You probably don't see the point of TensorFlow now - it took us more lines of code\n",
        "# to achieve this simple result. However, once we go deeper in the next chapter,\n",
        "# TensorFlow will save us hundreds of lines of code."
      ],
      "execution_count": 13,
      "outputs": [
        {
          "output_type": "display_data",
          "data": {
            "image/png": "[encoded data removed]",
            "text/plain": [
              "<Figure size 432x288 with 1 Axes>"
            ]
          },
          "metadata": {
            "tags": [],
            "needs_background": "light"
          }
        }
      ]
    }
  ]
}